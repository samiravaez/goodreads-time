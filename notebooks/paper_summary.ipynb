{
 "cells": [
  {
   "cell_type": "code",
   "execution_count": 1,
   "metadata": {},
   "outputs": [],
   "source": [
    "import pandas as pd\n",
    "import numpy as np"
   ]
  },
  {
   "cell_type": "code",
   "execution_count": 2,
   "metadata": {},
   "outputs": [],
   "source": [
    "actions = pd.read_parquet('../data/gr-work-actions.parquet')\n",
    "\n",
    "actions['timestamp'] = pd.to_datetime(actions['first_time'], unit='s')\n",
    "\n",
    "del actions['first_time']\n",
    "del actions['last_time']\n",
    "\n",
    "actions.sort_values('timestamp', inplace=True)\n",
    "actions.set_index('timestamp', inplace=True)"
   ]
  },
  {
   "cell_type": "code",
   "execution_count": 3,
   "metadata": {},
   "outputs": [],
   "source": [
    "gender = pd.read_parquet('../data/gr-work-gender.parquet')\n",
    "\n",
    "gender.drop_duplicates(subset=['gr_item'], inplace=True)\n",
    "\n",
    "gender = gender.set_index('gr_item')['gender']\n",
    "\n",
    "gender[gender.str.startswith('no-')] = 'unlinked'\n",
    "\n",
    "gender = gender.astype('category')\n",
    "gender.index.name = 'item_id'"
   ]
  },
  {
   "cell_type": "code",
   "execution_count": 4,
   "metadata": {},
   "outputs": [
    {
     "name": "stderr",
     "output_type": "stream",
     "text": [
      "/tmp/ipykernel_2576877/3795840096.py:3: FutureWarning: A value is trying to be set on a copy of a DataFrame or Series through chained assignment using an inplace method.\n",
      "The behavior will change in pandas 3.0. This inplace method will never work because the intermediate object on which we are setting values always behaves as a copy.\n",
      "\n",
      "For example, when doing 'df[col].method(value, inplace=True)', try using 'df.method({col: value}, inplace=True)' or df[col] = df[col].method(value) instead, to perform the operation inplace on the original object.\n",
      "\n",
      "\n",
      "  merged_df['gender'].fillna('unlinked', inplace=True)\n"
     ]
    }
   ],
   "source": [
    "merged_df = actions.join(gender, on='item_id', how='left')\n",
    "\n",
    "merged_df['gender'].fillna('unlinked', inplace=True)"
   ]
  },
  {
   "cell_type": "code",
   "execution_count": 5,
   "metadata": {},
   "outputs": [],
   "source": [
    "authors = pd.read_parquet('../data/gr-work-item-authors.parquet')\n",
    "authors = authors.groupby('item_id', as_index=True)['author_id'].first().to_frame()"
   ]
  },
  {
   "cell_type": "code",
   "execution_count": 6,
   "metadata": {},
   "outputs": [
    {
     "data": {
      "text/html": [
       "<div>\n",
       "<style scoped>\n",
       "    .dataframe tbody tr th:only-of-type {\n",
       "        vertical-align: middle;\n",
       "    }\n",
       "\n",
       "    .dataframe tbody tr th {\n",
       "        vertical-align: top;\n",
       "    }\n",
       "\n",
       "    .dataframe thead th {\n",
       "        text-align: right;\n",
       "    }\n",
       "</style>\n",
       "<table border=\"1\" class=\"dataframe\">\n",
       "  <thead>\n",
       "    <tr style=\"text-align: right;\">\n",
       "      <th></th>\n",
       "      <th>author_id</th>\n",
       "    </tr>\n",
       "    <tr>\n",
       "      <th>item_id</th>\n",
       "      <th></th>\n",
       "    </tr>\n",
       "  </thead>\n",
       "  <tbody>\n",
       "    <tr>\n",
       "      <th>400000040</th>\n",
       "      <td>2553</td>\n",
       "    </tr>\n",
       "    <tr>\n",
       "      <th>400000062</th>\n",
       "      <td>7555163</td>\n",
       "    </tr>\n",
       "    <tr>\n",
       "      <th>400000081</th>\n",
       "      <td>5315</td>\n",
       "    </tr>\n",
       "    <tr>\n",
       "      <th>400000084</th>\n",
       "      <td>5325</td>\n",
       "    </tr>\n",
       "    <tr>\n",
       "      <th>400000087</th>\n",
       "      <td>5353</td>\n",
       "    </tr>\n",
       "  </tbody>\n",
       "</table>\n",
       "</div>"
      ],
      "text/plain": [
       "           author_id\n",
       "item_id             \n",
       "400000040       2553\n",
       "400000062    7555163\n",
       "400000081       5315\n",
       "400000084       5325\n",
       "400000087       5353"
      ]
     },
     "execution_count": 6,
     "metadata": {},
     "output_type": "execute_result"
    }
   ],
   "source": [
    "authors.head()"
   ]
  },
  {
   "cell_type": "code",
   "execution_count": 7,
   "metadata": {},
   "outputs": [],
   "source": [
    "merged_df = merged_df.join(authors, on='item_id', how='left')"
   ]
  },
  {
   "cell_type": "code",
   "execution_count": 8,
   "metadata": {},
   "outputs": [],
   "source": [
    "df = merged_df.copy()"
   ]
  },
  {
   "cell_type": "code",
   "execution_count": 9,
   "metadata": {},
   "outputs": [],
   "source": [
    "def compute_summary(df_subset):\n",
    "    return {\n",
    "        'Unique Users': df_subset['user_id'].nunique(),\n",
    "        'Unique Books': df_subset['item_id'].nunique(),\n",
    "        'Unique Authors': df_subset['author_id'].nunique(),\n",
    "        'Average Rating': df_subset.groupby('item_id')['last_rating'].mean().mean(),\n",
    "    }"
   ]
  },
  {
   "cell_type": "code",
   "execution_count": 10,
   "metadata": {},
   "outputs": [],
   "source": [
    "summary = {\n",
    "    'Overall': compute_summary(df),\n",
    "    'Male': compute_summary(df[df['gender'] == 'male']),\n",
    "    'Female': compute_summary(df[df['gender'] == 'female']),\n",
    "}"
   ]
  },
  {
   "cell_type": "code",
   "execution_count": 11,
   "metadata": {},
   "outputs": [
    {
     "name": "stdout",
     "output_type": "stream",
     "text": [
      "                    Overall       Male     Female\n",
      "Unique Users     876,145.00 824,001.00 805,003.00\n",
      "Unique Books   1,522,486.00 348,302.00 231,345.00\n",
      "Unique Authors   612,241.00 155,888.00  87,904.00\n",
      "Average Rating         3.85       3.80       3.79\n"
     ]
    }
   ],
   "source": [
    "summary_df = pd.DataFrame(summary)\n",
    "\n",
    "summary_df.loc[['Unique Users', 'Unique Books', 'Unique Authors']] = summary_df.loc[\n",
    "    ['Unique Users', 'Unique Books', 'Unique Authors']\n",
    "].astype(int)\n",
    "\n",
    "summary_df.loc[['Average Rating']] = summary_df.loc[\n",
    "    ['Average Rating']\n",
    "].round(2)\n",
    "\n",
    "pd.set_option('display.float_format', '{:,.2f}'.format)\n",
    "\n",
    "print(summary_df)"
   ]
  },
  {
   "cell_type": "code",
   "execution_count": 12,
   "metadata": {},
   "outputs": [
    {
     "name": "stdout",
     "output_type": "stream",
     "text": [
      "\\begin{table}\n",
      "\\caption{Summary Statistics by Author Gender}\n",
      "\\label{tab:gender_summary}\n",
      "\\begin{tabular}{lrrr}\n",
      "\\toprule\n",
      " & Overall & Male & Female \\\\\n",
      "\\midrule\n",
      "Unique Users & 876145.00 & 824001.00 & 805003.00 \\\\\n",
      "Unique Books & 1522486.00 & 348302.00 & 231345.00 \\\\\n",
      "Unique Authors & 612241.00 & 155888.00 & 87904.00 \\\\\n",
      "Average Rating & 3.85 & 3.80 & 3.79 \\\\\n",
      "\\bottomrule\n",
      "\\end{tabular}\n",
      "\\end{table}\n",
      "\n"
     ]
    }
   ],
   "source": [
    "latex_table = summary_df.to_latex(\n",
    "    index=True,\n",
    "    caption=\"Summary Statistics by Author Gender\",\n",
    "    label=\"tab:gender_summary\",\n",
    "    float_format=\"%.2f\"\n",
    ")\n",
    "\n",
    "print(latex_table)"
   ]
  }
 ],
 "metadata": {
  "kernelspec": {
   "display_name": "default",
   "language": "python",
   "name": "python3"
  },
  "language_info": {
   "codemirror_mode": {
    "name": "ipython",
    "version": 3
   },
   "file_extension": ".py",
   "mimetype": "text/x-python",
   "name": "python",
   "nbconvert_exporter": "python",
   "pygments_lexer": "ipython3",
   "version": "3.12.7"
  }
 },
 "nbformat": 4,
 "nbformat_minor": 2
}
